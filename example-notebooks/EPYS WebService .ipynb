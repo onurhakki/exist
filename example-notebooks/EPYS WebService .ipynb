{
 "cells": [
  {
   "cell_type": "markdown",
   "id": "aa54abf4",
   "metadata": {},
   "source": [
    "### Download"
   ]
  },
  {
   "cell_type": "code",
   "execution_count": null,
   "id": "6e22e7e1",
   "metadata": {},
   "outputs": [],
   "source": [
    "### !pip install theohe-epias\n",
    "\n",
    "### link: https://pypi.org/project/theohe-epias/"
   ]
  },
  {
   "cell_type": "markdown",
   "id": "a63e2bdf",
   "metadata": {},
   "source": [
    "### Import and load EPYS WebService (WS)"
   ]
  },
  {
   "cell_type": "code",
   "execution_count": null,
   "id": "b4b3468e",
   "metadata": {},
   "outputs": [],
   "source": [
    "from theohe_epias.epys.service import WebServiceEPYS\n",
    "import warnings\n",
    "\n",
    "warnings.simplefilter(\"ignore\")\n",
    "\n",
    "ws = WebServiceEPYS(username = \"USERNAME\", organizationId = 123456789, test=None)"
   ]
  },
  {
   "cell_type": "markdown",
   "id": "00a82fc1",
   "metadata": {},
   "source": [
    "organizationId: int\n",
    "\n",
    "test: default None (\"prp\" for test system)"
   ]
  },
  {
   "cell_type": "markdown",
   "id": "a493f385",
   "metadata": {},
   "source": [
    "### Login"
   ]
  },
  {
   "cell_type": "code",
   "execution_count": null,
   "id": "94a42185",
   "metadata": {},
   "outputs": [],
   "source": [
    "ws.login()\n",
    "# or directly use below code\n",
    "# ws.login(\"password\")\n"
   ]
  },
  {
   "cell_type": "markdown",
   "id": "9213d107",
   "metadata": {},
   "source": [
    "### Show services\n"
   ]
  },
  {
   "cell_type": "code",
   "execution_count": null,
   "id": "e4322d60",
   "metadata": {},
   "outputs": [],
   "source": [
    "ws.services"
   ]
  },
  {
   "cell_type": "markdown",
   "id": "f1da2731",
   "metadata": {},
   "source": [
    "### Invoice"
   ]
  },
  {
   "cell_type": "code",
   "execution_count": null,
   "id": "3234c5f9",
   "metadata": {},
   "outputs": [],
   "source": [
    "help(ws.invoice_notice_invoice_item_with_tax)"
   ]
  },
  {
   "cell_type": "code",
   "execution_count": null,
   "id": "faedeed6",
   "metadata": {},
   "outputs": [],
   "source": [
    "ws.invoice_notice_invoice_item_with_tax(function='list')\n"
   ]
  },
  {
   "cell_type": "markdown",
   "id": "6b515cd6",
   "metadata": {},
   "source": [
    "function='export' returns pandas dataframe if only there is one sheet else dictionary\n",
    "\n",
    "function='list' returns list\n"
   ]
  },
  {
   "cell_type": "markdown",
   "id": "f2dd8158",
   "metadata": {},
   "source": [
    "If period is empty, returns latest settlement period. Period has to be in tuple format (year, month)"
   ]
  },
  {
   "cell_type": "code",
   "execution_count": null,
   "id": "cdf5cde7",
   "metadata": {},
   "outputs": [],
   "source": [
    "ws.invoice_notice_invoice_item_with_tax(\n",
    "    period = (2023, 1, 1), \n",
    "    function='list')\n"
   ]
  },
  {
   "cell_type": "markdown",
   "id": "f0fabf08",
   "metadata": {},
   "source": [
    "### Settlement (Uzlaştırma Bildirimi)"
   ]
  },
  {
   "cell_type": "markdown",
   "id": "952b13fb",
   "metadata": {},
   "source": [
    "##### Invoice notice (Uzlaştırma Bildirimi Özet)"
   ]
  },
  {
   "cell_type": "code",
   "execution_count": null,
   "id": "c930980a",
   "metadata": {},
   "outputs": [],
   "source": [
    "help(ws.invoice_notice)"
   ]
  },
  {
   "cell_type": "code",
   "execution_count": null,
   "id": "ce573aa7",
   "metadata": {},
   "outputs": [],
   "source": [
    "ws.invoice_notice()\n"
   ]
  },
  {
   "cell_type": "markdown",
   "id": "e36bbd24",
   "metadata": {},
   "source": [
    "##### Invoice notice daily (Aylık Uzlaştırma Bildirimi)"
   ]
  },
  {
   "cell_type": "code",
   "execution_count": null,
   "id": "559a38fa",
   "metadata": {},
   "outputs": [],
   "source": [
    "help(ws.invoice_notice_daily)"
   ]
  },
  {
   "cell_type": "code",
   "execution_count": null,
   "id": "52c2c75b",
   "metadata": {},
   "outputs": [],
   "source": [
    "ws.invoice_notice_daily()"
   ]
  },
  {
   "cell_type": "markdown",
   "id": "30ef4a57",
   "metadata": {},
   "source": [
    "##### Invoice notice hourly (Uzlaştırma Dönemi Detay)"
   ]
  },
  {
   "cell_type": "code",
   "execution_count": null,
   "id": "1e2b1aff",
   "metadata": {},
   "outputs": [],
   "source": [
    "help(ws.invoice_notice_hourly)"
   ]
  },
  {
   "cell_type": "code",
   "execution_count": null,
   "id": "834a2107",
   "metadata": {},
   "outputs": [],
   "source": [
    "ws.invoice_notice_hourly()"
   ]
  },
  {
   "cell_type": "markdown",
   "id": "69519bb2",
   "metadata": {},
   "source": [
    "### Reports (Raporlar)"
   ]
  },
  {
   "cell_type": "markdown",
   "id": "b4f7b8b4",
   "metadata": {},
   "source": [
    "##### Settlement Point Data (UEVÇB Verileri)"
   ]
  },
  {
   "cell_type": "code",
   "execution_count": null,
   "id": "8bd9e6b3",
   "metadata": {},
   "outputs": [],
   "source": [
    "help(ws.settlement_point_data)"
   ]
  },
  {
   "cell_type": "code",
   "execution_count": null,
   "id": "3fc35ff9",
   "metadata": {},
   "outputs": [],
   "source": [
    "ws.settlement_point_data()"
   ]
  },
  {
   "cell_type": "markdown",
   "id": "99b89bf3",
   "metadata": {},
   "source": [
    "##### Settlement Point Meter Data (UEVÇB Sayaç Verileri)"
   ]
  },
  {
   "cell_type": "code",
   "execution_count": null,
   "id": "267a3d2c",
   "metadata": {},
   "outputs": [],
   "source": [
    "help(ws.settlement_point_meter_data)"
   ]
  },
  {
   "cell_type": "code",
   "execution_count": null,
   "id": "86daf4be",
   "metadata": {},
   "outputs": [],
   "source": [
    "ws.settlement_point_meter_data()"
   ]
  },
  {
   "cell_type": "markdown",
   "id": "b741e8a4",
   "metadata": {},
   "source": [
    "### Settlement Data (Veri İşlemleri)"
   ]
  },
  {
   "cell_type": "markdown",
   "id": "4fba6313",
   "metadata": {},
   "source": [
    "##### Meter data Approved Meter Data (Onaylı Sayaç Verileri)"
   ]
  },
  {
   "cell_type": "code",
   "execution_count": null,
   "id": "10f6e559",
   "metadata": {},
   "outputs": [],
   "source": [
    "help(ws.meter_data_approved_meter_data)"
   ]
  },
  {
   "cell_type": "code",
   "execution_count": null,
   "id": "f0241185",
   "metadata": {},
   "outputs": [],
   "source": [
    "ws.meter_data_approved_meter_data()"
   ]
  }
 ],
 "metadata": {
  "kernelspec": {
   "display_name": "Python 3 (ipykernel)",
   "language": "python",
   "name": "python3"
  },
  "language_info": {
   "codemirror_mode": {
    "name": "ipython",
    "version": 3
   },
   "file_extension": ".py",
   "mimetype": "text/x-python",
   "name": "python",
   "nbconvert_exporter": "python",
   "pygments_lexer": "ipython3",
   "version": "3.9.7"
  }
 },
 "nbformat": 4,
 "nbformat_minor": 5
}
